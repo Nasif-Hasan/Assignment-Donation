{
  "nbformat": 4,
  "nbformat_minor": 0,
  "metadata": {
    "colab": {
      "provenance": [],
      "authorship_tag": "ABX9TyNamtAUSjg6EfYTvY2tHYK7",
      "include_colab_link": true
    },
    "kernelspec": {
      "name": "python3",
      "display_name": "Python 3"
    },
    "language_info": {
      "name": "python"
    }
  },
  "cells": [
    {
      "cell_type": "markdown",
      "metadata": {
        "id": "view-in-github",
        "colab_type": "text"
      },
      "source": [
        "<a href=\"https://colab.research.google.com/github/Nasif-Hasan/Assignment-Donation/blob/main/Python_Class_1.ipynb\" target=\"_parent\"><img src=\"https://colab.research.google.com/assets/colab-badge.svg\" alt=\"Open In Colab\"/></a>"
      ]
    },
    {
      "cell_type": "code",
      "source": [
        ">>> 2*3+1\n",
        ">>> print(\"Hello world\")"
      ],
      "metadata": {
        "colab": {
          "base_uri": "https://localhost:8080/"
        },
        "id": "Iq0bdZ2sC6SM",
        "outputId": "f7bc94a2-158c-4efb-be31-c754c1cdc208"
      },
      "execution_count": null,
      "outputs": [
        {
          "output_type": "stream",
          "name": "stdout",
          "text": [
            "Hello world\n"
          ]
        }
      ]
    },
    {
      "cell_type": "code",
      "source": [
        "# prompt: write a code of two numbers addition\n",
        "\n",
        "# Addition of two numbers\n",
        "num1 = 2\n",
        "num2 = 3\n",
        "sum = num1 + num2\n",
        "print(\"The sum of\", num1, \"and\", num2, \"is\", sum)"
      ],
      "metadata": {
        "colab": {
          "base_uri": "https://localhost:8080/"
        },
        "id": "xM8uDgjpNZtW",
        "outputId": "fe881a00-7e81-4272-8965-cb891d472ac3"
      },
      "execution_count": null,
      "outputs": [
        {
          "output_type": "stream",
          "name": "stdout",
          "text": [
            "The sum of 2 and 3 is 5\n"
          ]
        }
      ]
    },
    {
      "cell_type": "code",
      "source": [
        "# prompt: make a calculator while we can add, subtraction, multiplication, divide\n",
        "\n",
        "def add(x, y):\n",
        "  \"\"\"Adds two numbers together.\"\"\"\n",
        "  return x + y\n",
        "\n",
        "def subtract(x, y):\n",
        "  \"\"\"Subtracts two numbers.\"\"\"\n",
        "  return x - y\n",
        "\n",
        "def multiply(x, y):\n",
        "  \"\"\"Multiplies two numbers.\"\"\"\n",
        "  return x * y\n",
        "\n",
        "def divide(x, y):\n",
        "  \"\"\"Divides two numbers.\"\"\"\n",
        "  if y == 0:\n",
        "    return \"Division by zero error!\"\n",
        "  return x / y\n",
        "\n",
        "while True:\n",
        "  print(\"Select operation:\")\n",
        "  print(\"1. Add\")\n",
        "  print(\"2. Subtract\")\n",
        "  print(\"3. Multiply\")\n",
        "  print(\"4. Divide\")\n",
        "  print(\"5. Exit\")\n",
        "\n",
        "  choice = input(\"Enter choice(1/2/3/4/5): \")\n",
        "\n",
        "  if choice in ('1', '2', '3', '4'):\n",
        "    try:\n",
        "      num1 = float(input(\"Enter first number: \"))\n",
        "      num2 = float(input(\"Enter second number: \"))\n",
        "    except ValueError:\n",
        "      print(\"Invalid input. Please enter numbers only.\")\n",
        "      continue\n",
        "\n",
        "    if choice == '1':\n",
        "      print(num1, \"+\", num2, \"=\", add(num1, num2))\n",
        "\n",
        "    elif choice == '2':\n",
        "      print(num1, \"-\", num2, \"=\", subtract(num1, num2))\n",
        "\n",
        "    elif choice == '3':\n",
        "      print(num1, \"*\", num2, \"=\", multiply(num1, num2))\n",
        "\n",
        "    elif choice == '4':\n",
        "      print(num1, \"/\", num2, \"=\", divide(num1, num2))\n",
        "\n",
        "  elif choice == '5':\n",
        "    break\n",
        "  else:\n",
        "    print(\"Invalid Input\")"
      ],
      "metadata": {
        "colab": {
          "base_uri": "https://localhost:8080/",
          "height": 825
        },
        "id": "ZyFXBM6wP8iO",
        "outputId": "eb8c2aa5-40b7-4fbe-c27f-05af0815b890"
      },
      "execution_count": null,
      "outputs": [
        {
          "output_type": "stream",
          "name": "stdout",
          "text": [
            "Select operation:\n",
            "1. Add\n",
            "2. Subtract\n",
            "3. Multiply\n",
            "4. Divide\n",
            "5. Exit\n",
            "Enter choice(1/2/3/4/5): 4\n",
            "Enter first number: 6\n",
            "Enter second number: 12\n",
            "6.0 / 12.0 = 0.5\n",
            "Select operation:\n",
            "1. Add\n",
            "2. Subtract\n",
            "3. Multiply\n",
            "4. Divide\n",
            "5. Exit\n",
            "Enter choice(1/2/3/4/5): 1\n",
            "Enter first number: 200\n",
            "Enter second number: 500\n",
            "200.0 + 500.0 = 700.0\n",
            "Select operation:\n",
            "1. Add\n",
            "2. Subtract\n",
            "3. Multiply\n",
            "4. Divide\n",
            "5. Exit\n"
          ]
        },
        {
          "output_type": "error",
          "ename": "KeyboardInterrupt",
          "evalue": "Interrupted by user",
          "traceback": [
            "\u001b[0;31m---------------------------------------------------------------------------\u001b[0m",
            "\u001b[0;31mKeyboardInterrupt\u001b[0m                         Traceback (most recent call last)",
            "\u001b[0;32m<ipython-input-4-fd17d2725cab>\u001b[0m in \u001b[0;36m<cell line: 21>\u001b[0;34m()\u001b[0m\n\u001b[1;32m     27\u001b[0m   \u001b[0mprint\u001b[0m\u001b[0;34m(\u001b[0m\u001b[0;34m\"5. Exit\"\u001b[0m\u001b[0;34m)\u001b[0m\u001b[0;34m\u001b[0m\u001b[0;34m\u001b[0m\u001b[0m\n\u001b[1;32m     28\u001b[0m \u001b[0;34m\u001b[0m\u001b[0m\n\u001b[0;32m---> 29\u001b[0;31m   \u001b[0mchoice\u001b[0m \u001b[0;34m=\u001b[0m \u001b[0minput\u001b[0m\u001b[0;34m(\u001b[0m\u001b[0;34m\"Enter choice(1/2/3/4/5): \"\u001b[0m\u001b[0;34m)\u001b[0m\u001b[0;34m\u001b[0m\u001b[0;34m\u001b[0m\u001b[0m\n\u001b[0m\u001b[1;32m     30\u001b[0m \u001b[0;34m\u001b[0m\u001b[0m\n\u001b[1;32m     31\u001b[0m   \u001b[0;32mif\u001b[0m \u001b[0mchoice\u001b[0m \u001b[0;32min\u001b[0m \u001b[0;34m(\u001b[0m\u001b[0;34m'1'\u001b[0m\u001b[0;34m,\u001b[0m \u001b[0;34m'2'\u001b[0m\u001b[0;34m,\u001b[0m \u001b[0;34m'3'\u001b[0m\u001b[0;34m,\u001b[0m \u001b[0;34m'4'\u001b[0m\u001b[0;34m)\u001b[0m\u001b[0;34m:\u001b[0m\u001b[0;34m\u001b[0m\u001b[0;34m\u001b[0m\u001b[0m\n",
            "\u001b[0;32m/usr/local/lib/python3.10/dist-packages/ipykernel/kernelbase.py\u001b[0m in \u001b[0;36mraw_input\u001b[0;34m(self, prompt)\u001b[0m\n\u001b[1;32m    849\u001b[0m                 \u001b[0;34m\"raw_input was called, but this frontend does not support input requests.\"\u001b[0m\u001b[0;34m\u001b[0m\u001b[0;34m\u001b[0m\u001b[0m\n\u001b[1;32m    850\u001b[0m             )\n\u001b[0;32m--> 851\u001b[0;31m         return self._input_request(str(prompt),\n\u001b[0m\u001b[1;32m    852\u001b[0m             \u001b[0mself\u001b[0m\u001b[0;34m.\u001b[0m\u001b[0m_parent_ident\u001b[0m\u001b[0;34m,\u001b[0m\u001b[0;34m\u001b[0m\u001b[0;34m\u001b[0m\u001b[0m\n\u001b[1;32m    853\u001b[0m             \u001b[0mself\u001b[0m\u001b[0;34m.\u001b[0m\u001b[0m_parent_header\u001b[0m\u001b[0;34m,\u001b[0m\u001b[0;34m\u001b[0m\u001b[0;34m\u001b[0m\u001b[0m\n",
            "\u001b[0;32m/usr/local/lib/python3.10/dist-packages/ipykernel/kernelbase.py\u001b[0m in \u001b[0;36m_input_request\u001b[0;34m(self, prompt, ident, parent, password)\u001b[0m\n\u001b[1;32m    893\u001b[0m             \u001b[0;32mexcept\u001b[0m \u001b[0mKeyboardInterrupt\u001b[0m\u001b[0;34m:\u001b[0m\u001b[0;34m\u001b[0m\u001b[0;34m\u001b[0m\u001b[0m\n\u001b[1;32m    894\u001b[0m                 \u001b[0;31m# re-raise KeyboardInterrupt, to truncate traceback\u001b[0m\u001b[0;34m\u001b[0m\u001b[0;34m\u001b[0m\u001b[0m\n\u001b[0;32m--> 895\u001b[0;31m                 \u001b[0;32mraise\u001b[0m \u001b[0mKeyboardInterrupt\u001b[0m\u001b[0;34m(\u001b[0m\u001b[0;34m\"Interrupted by user\"\u001b[0m\u001b[0;34m)\u001b[0m \u001b[0;32mfrom\u001b[0m \u001b[0;32mNone\u001b[0m\u001b[0;34m\u001b[0m\u001b[0;34m\u001b[0m\u001b[0m\n\u001b[0m\u001b[1;32m    896\u001b[0m             \u001b[0;32mexcept\u001b[0m \u001b[0mException\u001b[0m \u001b[0;32mas\u001b[0m \u001b[0me\u001b[0m\u001b[0;34m:\u001b[0m\u001b[0;34m\u001b[0m\u001b[0;34m\u001b[0m\u001b[0m\n\u001b[1;32m    897\u001b[0m                 \u001b[0mself\u001b[0m\u001b[0;34m.\u001b[0m\u001b[0mlog\u001b[0m\u001b[0;34m.\u001b[0m\u001b[0mwarning\u001b[0m\u001b[0;34m(\u001b[0m\u001b[0;34m\"Invalid Message:\"\u001b[0m\u001b[0;34m,\u001b[0m \u001b[0mexc_info\u001b[0m\u001b[0;34m=\u001b[0m\u001b[0;32mTrue\u001b[0m\u001b[0;34m)\u001b[0m\u001b[0;34m\u001b[0m\u001b[0;34m\u001b[0m\u001b[0m\n",
            "\u001b[0;31mKeyboardInterrupt\u001b[0m: Interrupted by user"
          ]
        }
      ]
    },
    {
      "cell_type": "code",
      "source": [
        "# prompt: help keywords\n",
        "\n",
        "import keyword\n",
        "\n",
        "print(keyword.kwlist)"
      ],
      "metadata": {
        "colab": {
          "base_uri": "https://localhost:8080/"
        },
        "id": "rhneyM6uQe56",
        "outputId": "83643420-d202-4b5b-db6b-8598ab356421"
      },
      "execution_count": null,
      "outputs": [
        {
          "output_type": "stream",
          "name": "stdout",
          "text": [
            "['False', 'None', 'True', 'and', 'as', 'assert', 'async', 'await', 'break', 'class', 'continue', 'def', 'del', 'elif', 'else', 'except', 'finally', 'for', 'from', 'global', 'if', 'import', 'in', 'is', 'lambda', 'nonlocal', 'not', 'or', 'pass', 'raise', 'return', 'try', 'while', 'with', 'yield']\n"
          ]
        }
      ]
    },
    {
      "cell_type": "code",
      "source": [
        "# prompt: define and example of all help keywords of python\n",
        "\n",
        "# Examples and definitions of Python keywords\n",
        "\n",
        "# 1. False: Represents a Boolean false value.\n",
        "example_false = (10 > 20)  # False\n",
        "print(\"False Example:\", example_false)\n",
        "\n",
        "# 2. None: Represents the absence of a value or a null value.\n",
        "example_none = None\n",
        "print(\"None Example:\", example_none)\n",
        "\n",
        "# 3. True: Represents a Boolean true value.\n",
        "example_true = (10 < 20)  # True\n",
        "print(\"True Example:\", example_true)\n",
        "\n",
        "# 4. and: A logical operator that returns True if both operands are True.\n",
        "example_and = (10 < 20) and (5 < 10)  # True\n",
        "print(\"and Example:\", example_and)\n",
        "\n",
        "# 5. as: Used to create an alias for a module, class, or variable.\n",
        "import math as m\n",
        "example_as = m.sqrt(25)  # 5.0\n",
        "print(\"as Example:\", example_as)\n",
        "\n",
        "# 6. assert: Used for debugging purposes to check if a condition is true.\n",
        "x = 5\n",
        "assert x > 0  # If x is not greater than 0, an AssertionError is raised.\n",
        "print(\"assert Example: x is greater than 0\")\n",
        "\n",
        "# 7. break: Used to exit a loop prematurely.\n",
        "for i in range(5):\n",
        "  if i == 3:\n",
        "    break\n",
        "  print(\"break Example:\", i)\n",
        "\n",
        "# 8. class: Used to define a class, which is a blueprint for creating objects.\n",
        "class MyClass:\n",
        "  def __init__(self, name):\n",
        "    self.name = name\n",
        "example_class = MyClass(\"Example\")\n",
        "print(\"class Example:\", example_class.name)\n",
        "\n",
        "# 9. continue: Used to skip the current iteration of a loop and continue with the next.\n",
        "for i in range(5):\n",
        "  if i == 2:\n",
        "    continue\n",
        "  print(\"continue Example:\", i)\n",
        "\n",
        "# 10. def: Used to define a function.\n",
        "def my_function(x):\n",
        "  return x * 2\n",
        "example_def = my_function(5)  # 10\n",
        "print(\"def Example:\", example_def)\n",
        "\n",
        "# 11. del: Used to delete objects, variables, or elements from a list or dictionary.\n",
        "my_list = [1, 2, 3]\n",
        "del my_list[1]\n",
        "print(\"del Example:\", my_list)\n",
        "\n",
        "# 12. elif: Used in conditional statements to specify alternative conditions.\n",
        "x = 10\n",
        "if x > 20:\n",
        "  print(\"x is greater than 20\")\n",
        "elif x > 15:\n",
        "  print(\"x is greater than 15\")\n",
        "else:\n",
        "  print(\"x is not greater than 20 or 15\")\n",
        "\n",
        "# 13. else: Used in conditional statements to specify code that should be executed if the condition is false.\n",
        "x = 10\n",
        "if x > 20:\n",
        "  print(\"x is greater than 20\")\n",
        "else:\n",
        "  print(\"x is not greater than 20\")\n",
        "\n",
        "# 14. except: Used in exception handling to catch and handle exceptions.\n",
        "try:\n",
        "  result = 10 / 0\n",
        "except ZeroDivisionError:\n",
        "  print(\"except Example: Division by zero error\")\n",
        "\n",
        "# 15. finally: Used in exception handling to specify code that should be executed regardless of whether an exception occurs.\n",
        "try:\n",
        "  result = 10 / 0\n",
        "except ZeroDivisionError:\n",
        "  print(\"Division by zero error\")\n",
        "finally:\n",
        "  print(\"finally Example: This will always be executed\")\n",
        "\n",
        "# 16. for: Used to create a loop that iterates over a sequence (list, tuple, string, etc.).\n",
        "for i in range(3):\n",
        "  print(\"for Example:\", i)\n",
        "\n",
        "# 17. from: Used to import specific parts of a module.\n",
        "from math import sqrt\n",
        "example_from = sqrt(25)  # 5.0\n",
        "print(\"from Example:\", example_from)\n",
        "\n",
        "# 18. global: Used to access and modify global variables from within a function.\n",
        "global_var = 10\n",
        "def my_function():\n",
        "  global global_var\n",
        "  global_var = 20\n",
        "my_function()\n",
        "print(\"global Example:\", global_var)\n",
        "\n",
        "# 19. if: Used to create conditional statements.\n",
        "x = 10\n",
        "if x > 5:\n",
        "  print(\"if Example: x is greater than 5\")\n",
        "\n",
        "# 20. import: Used to import a module.\n",
        "import math\n",
        "example_import = math.pi  # 3.14159...\n",
        "print(\"import Example:\", example_import)\n",
        "\n",
        "# 21. in: Used to check if a value is present in a sequence (list, tuple, string, etc.).\n",
        "my_list = [1, 2, 3]\n",
        "example_in = 2 in my_list  # True\n",
        "print(\"in Example:\", example_in)\n",
        "\n",
        "# 22. is: Used to compare the identity of two objects.\n",
        "x = [1, 2, 3]\n",
        "y = x\n",
        "example_is = x is y  # True\n",
        "print(\"is Example:\", example_is)\n",
        "\n",
        "# 23. lambda: Used to create anonymous functions.\n",
        "example_lambda = lambda x: x * 2\n",
        "print(\"lambda Example:\", example_lambda(5))  # 10\n",
        "\n",
        "# 24. nonlocal: Used to access and modify variables in an enclosing function scope.\n",
        "def outer_function():\n",
        "  x = 10\n",
        "  def inner_function():\n",
        "    nonlocal x\n",
        "    x = 20\n",
        "  inner_function()\n",
        "  print(\"nonlocal Example:\", x)\n",
        "outer_function()\n",
        "\n",
        "# 25. not: A logical operator that negates a Boolean value.\n",
        "example_not = not True  # False\n",
        "print(\"not Example:\", example_not)\n",
        "\n",
        "# 26. or: A logical operator that returns True if at least one operand is True.\n",
        "example_or = (10 < 5) or (5 < 10)  # True\n",
        "print(\"or Example:\", example_or)\n",
        "\n",
        "# 27. pass: Used as a placeholder for code that will be implemented later.\n",
        "def my_function():\n",
        "  pass\n",
        "print(\"pass Example: Function definition with no implementation\")\n",
        "\n",
        "# 28. raise: Used to raise an exception explicitly.\n",
        "def divide(x, y):\n",
        "  if y == 0:\n",
        "    raise ZeroDivisionError(\"Division by zero\")\n",
        "  return x / y\n",
        "try:\n",
        "  divide(10, 0)\n",
        "except ZeroDivisionError as e:\n",
        "  print(\"raise Example:\", e)\n",
        "\n",
        "# 29. return: Used in functions to return a value.\n",
        "def my_function(x):\n",
        "  return x * 2\n",
        "example_return = my_function(5)  # 10\n",
        "print(\"return Example:\", example_return)\n",
        "\n",
        "# 30. try: Used in exception handling to enclose code that might raise an exception.\n",
        "try:\n",
        "  result = 10 / 0\n",
        "except ZeroDivisionError:\n",
        "  print(\"try Example: Division by zero error\")\n",
        "\n",
        "# 31. while: Used to create a loop that continues as long as a condition is true.\n",
        "i = 0\n",
        "while i < 3:\n",
        "  print(\"while Example:\", i)\n",
        "  i += 1\n",
        "\n",
        "# 32. with: Used to manage resources (files, network connections, etc.) in a safe and efficient way.\n",
        "with open(\"my_file.txt\", \"w\") as f:\n",
        "  f.write(\"Hello, world!\")\n",
        "print(\"with Example: File written successfully\")\n",
        "\n",
        "# 33. yield: Used in generator functions to return a value and pause the function's execution.\n",
        "def my_generator():\n",
        "  yield 1\n",
        "  yield 2\n",
        "  yield 3\n",
        "\n",
        "for value in my_generator():\n",
        "  print(\"yield Example:\", value)"
      ],
      "metadata": {
        "id": "6EXAEiJeRRsJ"
      },
      "execution_count": null,
      "outputs": []
    },
    {
      "cell_type": "code",
      "source": [
        "# prompt: write the union of two sets data\n",
        "\n",
        "set1 = {1, 2, 3}\n",
        "set2 = {3, 4, 5}\n",
        "\n",
        "union_set = set1.union(set2)\n",
        "\n",
        "print(\"Union of set1 and set2:\", union_set)"
      ],
      "metadata": {
        "colab": {
          "base_uri": "https://localhost:8080/"
        },
        "id": "E5fAmiOVSbLL",
        "outputId": "5db491d0-091f-4f95-de87-5d43a332c005"
      },
      "execution_count": null,
      "outputs": [
        {
          "output_type": "stream",
          "name": "stdout",
          "text": [
            "Union of set1 and set2: {1, 2, 3, 4, 5}\n"
          ]
        }
      ]
    },
    {
      "cell_type": "code",
      "source": [
        "# prompt: write some question and solve a complex number equation\n",
        "\n",
        "# Question: Solve the complex number equation z^2 + (2+3i)z + 5 - i = 0\n",
        "\n",
        "# We can use the quadratic formula to solve this equation.\n",
        "# The quadratic formula for a quadratic equation ax^2 + bx + c = 0 is:\n",
        "# x = (-b +/- sqrt(b^2 - 4ac)) / 2a\n",
        "\n",
        "# In our case, a = 1, b = (2+3i), and c = (5-i)\n",
        "\n",
        "a = 1\n",
        "b = 2 + 3j\n",
        "c = 5 - 1j\n",
        "\n",
        "# Calculate the discriminant (b^2 - 4ac)\n",
        "delta = (b**2) - 4 * a * c\n",
        "\n",
        "# Calculate the two solutions using the quadratic formula\n",
        "z1 = (-b + delta**0.5) / (2 * a)\n",
        "z2 = (-b - delta**0.5) / (2 * a)\n",
        "\n",
        "print(\"The solutions to the equation are:\")\n",
        "print(\"z1 =\", z1)\n",
        "print(\"z2 =\", z2)"
      ],
      "metadata": {
        "colab": {
          "base_uri": "https://localhost:8080/"
        },
        "id": "pJ4x1y9_UXTB",
        "outputId": "624aee45-2b92-4d38-b95b-3751d63bade6"
      },
      "execution_count": null,
      "outputs": [
        {
          "output_type": "stream",
          "name": "stdout",
          "text": [
            "The solutions to the equation are:\n",
            "z1 = (-0.23501273218833418+1.1144225978050986j)\n",
            "z2 = (-1.7649872678116658-4.114422597805099j)\n"
          ]
        }
      ]
    }
  ]
}